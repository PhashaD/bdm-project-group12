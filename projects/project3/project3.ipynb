{
 "cells": [
  {
   "cell_type": "markdown",
   "metadata": {},
   "source": [
    "## Install dependepncies"
   ]
  },
  {
   "cell_type": "code",
   "execution_count": 1,
   "metadata": {},
   "outputs": [
    {
     "name": "stdout",
     "output_type": "stream",
     "text": [
      "Requirement already satisfied: pyspark in /usr/local/spark/python (3.5.3)\n",
      "Requirement already satisfied: py4j==0.10.9.7 in /opt/conda/lib/python3.11/site-packages (from pyspark) (0.10.9.7)\n",
      "Requirement already satisfied: graphframes in /opt/conda/lib/python3.11/site-packages (0.6)\n",
      "Requirement already satisfied: numpy in /opt/conda/lib/python3.11/site-packages (from graphframes) (1.26.4)\n",
      "Requirement already satisfied: nose in /opt/conda/lib/python3.11/site-packages (from graphframes) (1.3.7)\n"
     ]
    }
   ],
   "source": [
    "!pip install pyspark\n",
    "!pip install graphframes"
   ]
  },
  {
   "cell_type": "code",
   "execution_count": 2,
   "metadata": {},
   "outputs": [],
   "source": [
    "import pyspark\n",
    "from delta import configure_spark_with_delta_pip\n",
    "\n",
    "# Prepare the Spark builder with Delta extensions and set extra packages for GraphFrames\n",
    "builder = pyspark.sql.SparkSession.builder.appName(\"project3\") \\\n",
    "    .config(\"spark.sql.extensions\", \"io.delta.sql.DeltaSparkSessionExtension\") \\\n",
    "    .config(\"spark.sql.catalog.spark_catalog\", \"org.apache.spark.sql.delta.catalog.DeltaCatalog\")\n",
    "\n",
    "# Start Spark with the extra GraphFrames package (version must match your Spark/Scala version)\n",
    "spark = configure_spark_with_delta_pip(builder, extra_packages=[\"graphframes:graphframes:0.8.4-spark3.5-s_2.12\"]).getOrCreate()\n",
    "spark.conf.set(\"spark.sql.shuffle.partitions\", spark._sc.defaultParallelism)\n",
    "spark.conf.set(\"spark.sql.repl.eagerEval.enabled\", True)\n",
    "spark.conf.set(\"spark.sql.repl.eagerEval.truncate\", 500)"
   ]
  },
  {
   "cell_type": "markdown",
   "metadata": {},
   "source": [
    "## Load the data"
   ]
  },
  {
   "cell_type": "code",
   "execution_count": 3,
   "metadata": {},
   "outputs": [
    {
     "name": "stdout",
     "output_type": "stream",
     "text": [
      "root\n",
      " |-- FL_DATE: string (nullable = true)\n",
      " |-- OP_CARRIER: string (nullable = true)\n",
      " |-- OP_CARRIER_FL_NUM: string (nullable = true)\n",
      " |-- ORIGIN: string (nullable = true)\n",
      " |-- DEST: string (nullable = true)\n",
      " |-- CRS_DEP_TIME: string (nullable = true)\n",
      " |-- DEP_TIME: string (nullable = true)\n",
      " |-- DEP_DELAY: string (nullable = true)\n",
      " |-- TAXI_OUT: string (nullable = true)\n",
      " |-- WHEELS_OFF: string (nullable = true)\n",
      " |-- WHEELS_ON: string (nullable = true)\n",
      " |-- TAXI_IN: string (nullable = true)\n",
      " |-- CRS_ARR_TIME: string (nullable = true)\n",
      " |-- ARR_TIME: string (nullable = true)\n",
      " |-- ARR_DELAY: string (nullable = true)\n",
      " |-- CANCELLED: string (nullable = true)\n",
      " |-- CANCELLATION_CODE: string (nullable = true)\n",
      " |-- DIVERTED: string (nullable = true)\n",
      " |-- CRS_ELAPSED_TIME: string (nullable = true)\n",
      " |-- ACTUAL_ELAPSED_TIME: string (nullable = true)\n",
      " |-- AIR_TIME: string (nullable = true)\n",
      " |-- DISTANCE: string (nullable = true)\n",
      " |-- CARRIER_DELAY: string (nullable = true)\n",
      " |-- WEATHER_DELAY: string (nullable = true)\n",
      " |-- NAS_DELAY: string (nullable = true)\n",
      " |-- SECURITY_DELAY: string (nullable = true)\n",
      " |-- LATE_AIRCRAFT_DELAY: string (nullable = true)\n",
      " |-- Unnamed: 27: string (nullable = true)\n",
      "\n"
     ]
    }
   ],
   "source": [
    "df = spark.read.option(\"header\", \"true\").csv(\"input/2009.csv\")\n",
    "df.printSchema()"
   ]
  },
  {
   "cell_type": "markdown",
   "metadata": {},
   "source": [
    "## Data Cleansing"
   ]
  },
  {
   "cell_type": "code",
   "execution_count": 4,
   "metadata": {},
   "outputs": [
    {
     "name": "stdout",
     "output_type": "stream",
     "text": [
      "+----------+----------+-----------------+------+----+------------+--------+---------+--------+----------+---------+-------+------------+--------+---------+---------+-----------------+--------+----------------+-------------------+--------+--------+-------------+-------------+---------+--------------+-------------------+-----------+\n",
      "|   FL_DATE|OP_CARRIER|OP_CARRIER_FL_NUM|ORIGIN|DEST|CRS_DEP_TIME|DEP_TIME|DEP_DELAY|TAXI_OUT|WHEELS_OFF|WHEELS_ON|TAXI_IN|CRS_ARR_TIME|ARR_TIME|ARR_DELAY|CANCELLED|CANCELLATION_CODE|DIVERTED|CRS_ELAPSED_TIME|ACTUAL_ELAPSED_TIME|AIR_TIME|DISTANCE|CARRIER_DELAY|WEATHER_DELAY|NAS_DELAY|SECURITY_DELAY|LATE_AIRCRAFT_DELAY|Unnamed: 27|\n",
      "+----------+----------+-----------------+------+----+------------+--------+---------+--------+----------+---------+-------+------------+--------+---------+---------+-----------------+--------+----------------+-------------------+--------+--------+-------------+-------------+---------+--------------+-------------------+-----------+\n",
      "|2009-01-01|        XE|             1204|   DCA| EWR|        1100|  1058.0|     -2.0|    18.0|    1116.0|   1158.0|    8.0|        1202|  1206.0|      4.0|      0.0|             NULL|     0.0|            62.0|               68.0|    42.0|   199.0|         NULL|         NULL|     NULL|          NULL|               NULL|       NULL|\n",
      "|2009-01-01|        XE|             1206|   EWR| IAD|        1510|  1509.0|     -1.0|    28.0|    1537.0|   1620.0|    4.0|        1632|  1624.0|     -8.0|      0.0|             NULL|     0.0|            82.0|               75.0|    43.0|   213.0|         NULL|         NULL|     NULL|          NULL|               NULL|       NULL|\n",
      "|2009-01-01|        XE|             1207|   EWR| DCA|        1100|  1059.0|     -1.0|    20.0|    1119.0|   1155.0|    6.0|        1210|  1201.0|     -9.0|      0.0|             NULL|     0.0|            70.0|               62.0|    36.0|   199.0|         NULL|         NULL|     NULL|          NULL|               NULL|       NULL|\n",
      "|2009-01-01|        XE|             1208|   DCA| EWR|        1240|  1249.0|      9.0|    10.0|    1259.0|   1336.0|    9.0|        1357|  1345.0|    -12.0|      0.0|             NULL|     0.0|            77.0|               56.0|    37.0|   199.0|         NULL|         NULL|     NULL|          NULL|               NULL|       NULL|\n",
      "|2009-01-01|        XE|             1209|   IAD| EWR|        1715|  1705.0|    -10.0|    24.0|    1729.0|   1809.0|   13.0|        1900|  1822.0|    -38.0|      0.0|             NULL|     0.0|           105.0|               77.0|    40.0|   213.0|         NULL|         NULL|     NULL|          NULL|               NULL|       NULL|\n",
      "|2009-01-01|        XE|             1212|   ATL| EWR|        1915|  1913.0|     -2.0|    19.0|    1932.0|   2108.0|   15.0|        2142|  2123.0|    -19.0|      0.0|             NULL|     0.0|           147.0|              130.0|    96.0|   745.0|         NULL|         NULL|     NULL|          NULL|               NULL|       NULL|\n",
      "|2009-01-01|        XE|             1212|   CLE| ATL|        1645|  1637.0|     -8.0|    12.0|    1649.0|   1820.0|    5.0|        1842|  1825.0|    -17.0|      0.0|             NULL|     0.0|           117.0|              108.0|    91.0|   554.0|         NULL|         NULL|     NULL|          NULL|               NULL|       NULL|\n",
      "|2009-01-01|        XE|             1214|   DCA| EWR|        1915|  1908.0|     -7.0|     9.0|    1917.0|   1953.0|   34.0|        2035|  2027.0|     -8.0|      0.0|             NULL|     0.0|            80.0|               79.0|    36.0|   199.0|         NULL|         NULL|     NULL|          NULL|               NULL|       NULL|\n",
      "|2009-01-01|        XE|             1215|   EWR| DCA|        1715|  1710.0|     -5.0|    28.0|    1738.0|   1819.0|    4.0|        1838|  1823.0|    -15.0|      0.0|             NULL|     0.0|            83.0|               73.0|    41.0|   199.0|         NULL|         NULL|     NULL|          NULL|               NULL|       NULL|\n",
      "|2009-01-01|        XE|             1217|   EWR| DCA|        1300|  1255.0|     -5.0|    15.0|    1310.0|   1349.0|    7.0|        1408|  1356.0|    -12.0|      0.0|             NULL|     0.0|            68.0|               61.0|    39.0|   199.0|         NULL|         NULL|     NULL|          NULL|               NULL|       NULL|\n",
      "|2009-01-01|        XE|             1218|   DCA| EWR|        1500|  1457.0|     -3.0|    14.0|    1511.0|   1552.0|    7.0|        1620|  1559.0|    -21.0|      0.0|             NULL|     0.0|            80.0|               62.0|    41.0|   199.0|         NULL|         NULL|     NULL|          NULL|               NULL|       NULL|\n",
      "|2009-01-01|        XE|             1219|   EWR| DCA|        2135|  2131.0|     -4.0|    21.0|    2152.0|   2232.0|    3.0|        2252|  2235.0|    -17.0|      0.0|             NULL|     0.0|            77.0|               64.0|    40.0|   199.0|         NULL|         NULL|     NULL|          NULL|               NULL|       NULL|\n",
      "|2009-01-01|        XE|             1220|   CLE| DCA|        1905|  1855.0|    -10.0|    10.0|    1905.0|   1956.0|    5.0|        2025|  2001.0|    -24.0|      0.0|             NULL|     0.0|            80.0|               66.0|    51.0|   310.0|         NULL|         NULL|     NULL|          NULL|               NULL|       NULL|\n",
      "|2009-01-01|        XE|             1220|   DCA| EWR|        2100|  2049.0|    -11.0|    10.0|    2059.0|   2133.0|   10.0|        2217|  2143.0|    -34.0|      0.0|             NULL|     0.0|            77.0|               54.0|    34.0|   199.0|         NULL|         NULL|     NULL|          NULL|               NULL|       NULL|\n",
      "|2009-01-01|        XE|             1232|   ORD| EWR|         905|   900.0|     -5.0|    16.0|     916.0|   1144.0|    6.0|        1212|  1150.0|    -22.0|      0.0|             NULL|     0.0|           127.0|              110.0|    88.0|   719.0|         NULL|         NULL|     NULL|          NULL|               NULL|       NULL|\n",
      "|2009-01-01|        XE|             1233|   EWR| ORD|        1000|  1035.0|     35.0|    14.0|    1049.0|   1156.0|   10.0|        1139|  1206.0|     27.0|      0.0|             NULL|     0.0|           159.0|              151.0|   127.0|   719.0|          0.0|         27.0|      0.0|           0.0|                0.0|       NULL|\n",
      "|2009-01-01|        XE|             1234|   ORD| EWR|        1230|  1234.0|      4.0|     8.0|    1242.0|   1511.0|   14.0|        1559|  1525.0|    -34.0|      0.0|             NULL|     0.0|           149.0|              111.0|    89.0|   719.0|         NULL|         NULL|     NULL|          NULL|               NULL|       NULL|\n",
      "|2009-01-01|        XE|             1235|   EWR| ORD|        1343|  1406.0|     23.0|    13.0|    1419.0|   1523.0|    7.0|        1523|  1530.0|      7.0|      0.0|             NULL|     0.0|           160.0|              144.0|   124.0|   719.0|         NULL|         NULL|     NULL|          NULL|               NULL|       NULL|\n",
      "|2009-01-01|        XE|             1236|   ORD| EWR|        1630|  1619.0|    -11.0|    19.0|    1638.0|   1906.0|   35.0|        2002|  1941.0|    -21.0|      0.0|             NULL|     0.0|           152.0|              142.0|    88.0|   719.0|         NULL|         NULL|     NULL|          NULL|               NULL|       NULL|\n",
      "|2009-01-01|        XE|             1237|   EWR| ORD|        1930|  1927.0|     -3.0|    16.0|    1943.0|   2049.0|    8.0|        2123|  2057.0|    -26.0|      0.0|             NULL|     0.0|           173.0|              150.0|   126.0|   719.0|         NULL|         NULL|     NULL|          NULL|               NULL|       NULL|\n",
      "+----------+----------+-----------------+------+----+------------+--------+---------+--------+----------+---------+-------+------------+--------+---------+---------+-----------------+--------+----------------+-------------------+--------+--------+-------------+-------------+---------+--------------+-------------------+-----------+\n",
      "only showing top 20 rows\n",
      "\n"
     ]
    }
   ],
   "source": [
    "from pyspark.sql.functions import col\n",
    "\n",
    "# Cast CANCELLED to float\n",
    "df = df.withColumn(\"CANCELLED\", col(\"CANCELLED\").cast(\"float\"))\n",
    "\n",
    "# Filter on 0.0\n",
    "df_clean = (\n",
    "    df\n",
    "    .filter(col(\"CANCELLED\") == 0.0)\n",
    "    .dropna(subset=[\"ORIGIN\", \"DEST\"])\n",
    "    .filter(col(\"ORIGIN\") != col(\"DEST\"))\n",
    ")\n",
    "df_clean.show()"
   ]
  },
  {
   "cell_type": "markdown",
   "metadata": {},
   "source": [
    "### Create Graph"
   ]
  },
  {
   "cell_type": "code",
   "execution_count": 5,
   "metadata": {},
   "outputs": [
    {
     "data": {
      "text/html": [
       "<table border='1'>\n",
       "<tr><th>id</th></tr>\n",
       "<tr><td>DCA</td></tr>\n",
       "<tr><td>ABQ</td></tr>\n",
       "<tr><td>LBB</td></tr>\n",
       "<tr><td>PVD</td></tr>\n",
       "<tr><td>AVL</td></tr>\n",
       "<tr><td>DSM</td></tr>\n",
       "<tr><td>XNA</td></tr>\n",
       "<tr><td>SYR</td></tr>\n",
       "<tr><td>CAE</td></tr>\n",
       "<tr><td>FAT</td></tr>\n",
       "<tr><td>MBS</td></tr>\n",
       "<tr><td>ROA</td></tr>\n",
       "<tr><td>SAN</td></tr>\n",
       "<tr><td>AZO</td></tr>\n",
       "<tr><td>LNK</td></tr>\n",
       "<tr><td>HPN</td></tr>\n",
       "<tr><td>ANC</td></tr>\n",
       "<tr><td>MYR</td></tr>\n",
       "<tr><td>TRI</td></tr>\n",
       "<tr><td>TOL</td></tr>\n",
       "</table>\n",
       "only showing top 20 rows\n"
      ],
      "text/plain": [
       "+---+\n",
       "| id|\n",
       "+---+\n",
       "|DCA|\n",
       "|ABQ|\n",
       "|LBB|\n",
       "|PVD|\n",
       "|AVL|\n",
       "|DSM|\n",
       "|XNA|\n",
       "|SYR|\n",
       "|CAE|\n",
       "|FAT|\n",
       "|MBS|\n",
       "|ROA|\n",
       "|SAN|\n",
       "|AZO|\n",
       "|LNK|\n",
       "|HPN|\n",
       "|ANC|\n",
       "|MYR|\n",
       "|TRI|\n",
       "|TOL|\n",
       "+---+\n",
       "only showing top 20 rows"
      ]
     },
     "metadata": {},
     "output_type": "display_data"
    }
   ],
   "source": [
    "from graphframes import GraphFrame\n",
    "\n",
    "vertices = df_clean.select(col(\"ORIGIN\").alias(\"id\")) \\\n",
    "    .union(df_clean.select(col(\"DEST\").alias(\"id\"))) \\\n",
    "    .distinct()\n",
    "\n",
    "display(vertices)"
   ]
  },
  {
   "cell_type": "code",
   "execution_count": 6,
   "metadata": {},
   "outputs": [
    {
     "data": {
      "text/html": [
       "<table border='1'>\n",
       "<tr><th>src</th><th>dst</th></tr>\n",
       "<tr><td>DCA</td><td>EWR</td></tr>\n",
       "<tr><td>EWR</td><td>IAD</td></tr>\n",
       "<tr><td>EWR</td><td>DCA</td></tr>\n",
       "<tr><td>DCA</td><td>EWR</td></tr>\n",
       "<tr><td>IAD</td><td>EWR</td></tr>\n",
       "<tr><td>ATL</td><td>EWR</td></tr>\n",
       "<tr><td>CLE</td><td>ATL</td></tr>\n",
       "<tr><td>DCA</td><td>EWR</td></tr>\n",
       "<tr><td>EWR</td><td>DCA</td></tr>\n",
       "<tr><td>EWR</td><td>DCA</td></tr>\n",
       "<tr><td>DCA</td><td>EWR</td></tr>\n",
       "<tr><td>EWR</td><td>DCA</td></tr>\n",
       "<tr><td>CLE</td><td>DCA</td></tr>\n",
       "<tr><td>DCA</td><td>EWR</td></tr>\n",
       "<tr><td>ORD</td><td>EWR</td></tr>\n",
       "<tr><td>EWR</td><td>ORD</td></tr>\n",
       "<tr><td>ORD</td><td>EWR</td></tr>\n",
       "<tr><td>EWR</td><td>ORD</td></tr>\n",
       "<tr><td>ORD</td><td>EWR</td></tr>\n",
       "<tr><td>EWR</td><td>ORD</td></tr>\n",
       "</table>\n",
       "only showing top 20 rows\n"
      ],
      "text/plain": [
       "+---+---+\n",
       "|src|dst|\n",
       "+---+---+\n",
       "|DCA|EWR|\n",
       "|EWR|IAD|\n",
       "|EWR|DCA|\n",
       "|DCA|EWR|\n",
       "|IAD|EWR|\n",
       "|ATL|EWR|\n",
       "|CLE|ATL|\n",
       "|DCA|EWR|\n",
       "|EWR|DCA|\n",
       "|EWR|DCA|\n",
       "|DCA|EWR|\n",
       "|EWR|DCA|\n",
       "|CLE|DCA|\n",
       "|DCA|EWR|\n",
       "|ORD|EWR|\n",
       "|EWR|ORD|\n",
       "|ORD|EWR|\n",
       "|EWR|ORD|\n",
       "|ORD|EWR|\n",
       "|EWR|ORD|\n",
       "+---+---+\n",
       "only showing top 20 rows"
      ]
     },
     "metadata": {},
     "output_type": "display_data"
    }
   ],
   "source": [
    "edges = df_clean.select(\n",
    "    col(\"ORIGIN\").alias(\"src\"),\n",
    "    col(\"DEST\").alias(\"dst\")\n",
    ")\n",
    "\n",
    "display(edges)"
   ]
  },
  {
   "cell_type": "code",
   "execution_count": 7,
   "metadata": {},
   "outputs": [
    {
     "data": {
      "text/plain": [
       "GraphFrame(v:[id: string], e:[src: string, dst: string])"
      ]
     },
     "metadata": {},
     "output_type": "display_data"
    }
   ],
   "source": [
    "graph = GraphFrame(vertices, edges)\n",
    "\n",
    "vertices.cache()\n",
    "edges.cache()\n",
    "\n",
    "display(graph)"
   ]
  },
  {
   "cell_type": "markdown",
   "metadata": {},
   "source": [
    "## Query 1: Compute different statistics"
   ]
  },
  {
   "cell_type": "code",
   "execution_count": 8,
   "metadata": {},
   "outputs": [
    {
     "data": {
      "text/html": [
       "<table border='1'>\n",
       "<tr><th>id</th><th>in_degree</th><th>out_degree</th><th>total_degree</th></tr>\n",
       "<tr><td>DCA</td><td>78016</td><td>77900</td><td>155916</td></tr>\n",
       "<tr><td>ABQ</td><td>35419</td><td>35393</td><td>70812</td></tr>\n",
       "<tr><td>LBB</td><td>7891</td><td>7873</td><td>15764</td></tr>\n",
       "<tr><td>PVD</td><td>18112</td><td>18090</td><td>36202</td></tr>\n",
       "<tr><td>AVL</td><td>4493</td><td>4470</td><td>8963</td></tr>\n",
       "<tr><td>DSM</td><td>14787</td><td>14729</td><td>29516</td></tr>\n",
       "<tr><td>XNA</td><td>13409</td><td>13343</td><td>26752</td></tr>\n",
       "<tr><td>SYR</td><td>9207</td><td>9189</td><td>18396</td></tr>\n",
       "<tr><td>CAE</td><td>9803</td><td>9796</td><td>19599</td></tr>\n",
       "<tr><td>FAT</td><td>12255</td><td>12231</td><td>24486</td></tr>\n",
       "<tr><td>MBS</td><td>3372</td><td>3352</td><td>6724</td></tr>\n",
       "<tr><td>ROA</td><td>3630</td><td>3602</td><td>7232</td></tr>\n",
       "<tr><td>SAN</td><td>82109</td><td>82013</td><td>164122</td></tr>\n",
       "<tr><td>AZO</td><td>2839</td><td>2835</td><td>5674</td></tr>\n",
       "<tr><td>LNK</td><td>2732</td><td>2719</td><td>5451</td></tr>\n",
       "<tr><td>HPN</td><td>10489</td><td>10454</td><td>20943</td></tr>\n",
       "<tr><td>ANC</td><td>17367</td><td>17434</td><td>34801</td></tr>\n",
       "<tr><td>MYR</td><td>4446</td><td>4423</td><td>8869</td></tr>\n",
       "<tr><td>TRI</td><td>2539</td><td>2531</td><td>5070</td></tr>\n",
       "<tr><td>TOL</td><td>1322</td><td>1318</td><td>2640</td></tr>\n",
       "</table>\n",
       "only showing top 20 rows\n"
      ],
      "text/plain": [
       "+---+---------+----------+------------+\n",
       "| id|in_degree|out_degree|total_degree|\n",
       "+---+---------+----------+------------+\n",
       "|DCA|    78016|     77900|      155916|\n",
       "|ABQ|    35419|     35393|       70812|\n",
       "|LBB|     7891|      7873|       15764|\n",
       "|PVD|    18112|     18090|       36202|\n",
       "|AVL|     4493|      4470|        8963|\n",
       "|DSM|    14787|     14729|       29516|\n",
       "|XNA|    13409|     13343|       26752|\n",
       "|SYR|     9207|      9189|       18396|\n",
       "|CAE|     9803|      9796|       19599|\n",
       "|FAT|    12255|     12231|       24486|\n",
       "|MBS|     3372|      3352|        6724|\n",
       "|ROA|     3630|      3602|        7232|\n",
       "|SAN|    82109|     82013|      164122|\n",
       "|AZO|     2839|      2835|        5674|\n",
       "|LNK|     2732|      2719|        5451|\n",
       "|HPN|    10489|     10454|       20943|\n",
       "|ANC|    17367|     17434|       34801|\n",
       "|MYR|     4446|      4423|        8869|\n",
       "|TRI|     2539|      2531|        5070|\n",
       "|TOL|     1322|      1318|        2640|\n",
       "+---+---------+----------+------------+\n",
       "only showing top 20 rows"
      ]
     },
     "metadata": {},
     "output_type": "display_data"
    }
   ],
   "source": [
    "from pyspark.sql.functions import count\n",
    "\n",
    "# Compute out-degree: count flights leaving each airport.\n",
    "out_degree = edges.groupBy(\"src\").agg(count(\"*\").alias(\"out_degree\")) \\\n",
    "                  .withColumnRenamed(\"src\", \"id\")\n",
    "\n",
    "# Compute in-degree: count flights arriving at each airport.\n",
    "in_degree = edges.groupBy(\"dst\").agg(count(\"*\").alias(\"in_degree\")) \\\n",
    "                 .withColumnRenamed(\"dst\", \"id\")\n",
    "\n",
    "# Combine the results with vertices to include all airports,\n",
    "degree_df = vertices.join(in_degree, on=\"id\", how=\"left\") \\\n",
    "                    .join(out_degree, on=\"id\", how=\"left\") \\\n",
    "                    .na.fill(0) \\\n",
    "                    .withColumn(\"total_degree\", col(\"in_degree\") + col(\"out_degree\"))\n",
    "\n",
    "# Display the degree statistics\n",
    "display(degree_df)"
   ]
  },
  {
   "cell_type": "markdown",
   "metadata": {},
   "source": [
    "### Triangle count"
   ]
  },
  {
   "cell_type": "code",
   "execution_count": 10,
   "metadata": {},
   "outputs": [
    {
     "data": {
      "text/html": [
       "<table border='1'>\n",
       "<tr><th>count</th><th>id</th></tr>\n",
       "<tr><td>673</td><td>DCA</td></tr>\n",
       "<tr><td>311</td><td>ABQ</td></tr>\n",
       "<tr><td>23</td><td>LBB</td></tr>\n",
       "<tr><td>161</td><td>PVD</td></tr>\n",
       "<tr><td>27</td><td>AVL</td></tr>\n",
       "<tr><td>109</td><td>DSM</td></tr>\n",
       "<tr><td>89</td><td>XNA</td></tr>\n",
       "<tr><td>82</td><td>SYR</td></tr>\n",
       "<tr><td>46</td><td>CAE</td></tr>\n",
       "<tr><td>31</td><td>FAT</td></tr>\n",
       "<tr><td>6</td><td>MBS</td></tr>\n",
       "<tr><td>6</td><td>ROA</td></tr>\n",
       "<tr><td>565</td><td>SAN</td></tr>\n",
       "<tr><td>6</td><td>AZO</td></tr>\n",
       "<tr><td>38</td><td>LNK</td></tr>\n",
       "<tr><td>36</td><td>HPN</td></tr>\n",
       "<tr><td>122</td><td>ANC</td></tr>\n",
       "<tr><td>20</td><td>MYR</td></tr>\n",
       "<tr><td>3</td><td>TRI</td></tr>\n",
       "<tr><td>1</td><td>TOL</td></tr>\n",
       "</table>\n",
       "only showing top 20 rows\n"
      ],
      "text/plain": [
       "+-----+---+\n",
       "|count| id|\n",
       "+-----+---+\n",
       "|  673|DCA|\n",
       "|  311|ABQ|\n",
       "|   23|LBB|\n",
       "|  161|PVD|\n",
       "|   27|AVL|\n",
       "|  109|DSM|\n",
       "|   89|XNA|\n",
       "|   82|SYR|\n",
       "|   46|CAE|\n",
       "|   31|FAT|\n",
       "|    6|MBS|\n",
       "|    6|ROA|\n",
       "|  565|SAN|\n",
       "|    6|AZO|\n",
       "|   38|LNK|\n",
       "|   36|HPN|\n",
       "|  122|ANC|\n",
       "|   20|MYR|\n",
       "|    3|TRI|\n",
       "|    1|TOL|\n",
       "+-----+---+\n",
       "only showing top 20 rows"
      ]
     },
     "metadata": {},
     "output_type": "display_data"
    }
   ],
   "source": [
    "# Calculate triangle count:\n",
    "trianglecount = graph.triangleCount()\n",
    "display(trianglecount)"
   ]
  },
  {
   "cell_type": "markdown",
   "metadata": {},
   "source": [
    "## Query 2: Total number of triangles"
   ]
  },
  {
   "cell_type": "code",
   "execution_count": 11,
   "metadata": {},
   "outputs": [
    {
     "name": "stdout",
     "output_type": "stream",
     "text": [
      "Total number of triangles in the graph: 15991.0\n"
     ]
    }
   ],
   "source": [
    "# Compute the total triangle count:\n",
    "total_triangles = trianglecount.groupBy().sum(\"count\").collect()[0][0] / 3\n",
    "print(\"Total number of triangles in the graph:\", total_triangles)"
   ]
  },
  {
   "cell_type": "code",
   "execution_count": null,
   "metadata": {},
   "outputs": [],
   "source": []
  }
 ],
 "metadata": {
  "kernelspec": {
   "display_name": "Python 3 (ipykernel)",
   "language": "python",
   "name": "python3"
  },
  "language_info": {
   "codemirror_mode": {
    "name": "ipython",
    "version": 3
   },
   "file_extension": ".py",
   "mimetype": "text/x-python",
   "name": "python",
   "nbconvert_exporter": "python",
   "pygments_lexer": "ipython3",
   "version": "3.11.10"
  }
 },
 "nbformat": 4,
 "nbformat_minor": 4
}
