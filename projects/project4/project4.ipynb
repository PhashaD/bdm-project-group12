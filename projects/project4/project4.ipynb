{
 "cells": [
  {
   "cell_type": "markdown",
   "metadata": {},
   "source": [
    "## Install dependepncies"
   ]
  },
  {
   "cell_type": "code",
   "execution_count": 1,
   "metadata": {},
   "outputs": [
    {
     "name": "stdout",
     "output_type": "stream",
     "text": [
      "Requirement already satisfied: pyspark in /usr/local/spark/python (3.5.3)\n",
      "Requirement already satisfied: py4j==0.10.9.7 in /opt/conda/lib/python3.11/site-packages (from pyspark) (0.10.9.7)\n",
      "Requirement already satisfied: graphframes in /opt/conda/lib/python3.11/site-packages (0.6)\n",
      "Requirement already satisfied: numpy in /opt/conda/lib/python3.11/site-packages (from graphframes) (1.26.4)\n",
      "Requirement already satisfied: nose in /opt/conda/lib/python3.11/site-packages (from graphframes) (1.3.7)\n"
     ]
    }
   ],
   "source": [
    "!pip install pyspark\n",
    "!pip install graphframes"
   ]
  },
  {
   "cell_type": "code",
   "execution_count": 2,
   "metadata": {},
   "outputs": [],
   "source": [
    "from pyspark.sql import SparkSession\n",
    "from pyspark.sql.functions import col, to_date, dayofweek, month\n",
    "\n",
    "# Start Spark session\n",
    "spark = SparkSession.builder \\\n",
    "    .appName(\"Airline Delay Prediction\") \\\n",
    "    .config(\"spark.sql.shuffle.partitions\", \"8\") \\\n",
    "    .config(\"spark.executor.memory\", \"4g\") \\\n",
    "    .config(\"spark.driver.memory\", \"4g\") \\\n",
    "    .getOrCreate()"
   ]
  },
  {
   "cell_type": "markdown",
   "metadata": {},
   "source": [
    "## Load the data"
   ]
  },
  {
   "cell_type": "code",
   "execution_count": 3,
   "metadata": {},
   "outputs": [
    {
     "name": "stdout",
     "output_type": "stream",
     "text": [
      "root\n",
      " |-- FL_DATE: string (nullable = true)\n",
      " |-- OP_CARRIER: string (nullable = true)\n",
      " |-- OP_CARRIER_FL_NUM: string (nullable = true)\n",
      " |-- ORIGIN: string (nullable = true)\n",
      " |-- DEST: string (nullable = true)\n",
      " |-- CRS_DEP_TIME: string (nullable = true)\n",
      " |-- DEP_TIME: string (nullable = true)\n",
      " |-- DEP_DELAY: string (nullable = true)\n",
      " |-- TAXI_OUT: string (nullable = true)\n",
      " |-- WHEELS_OFF: string (nullable = true)\n",
      " |-- WHEELS_ON: string (nullable = true)\n",
      " |-- TAXI_IN: string (nullable = true)\n",
      " |-- CRS_ARR_TIME: string (nullable = true)\n",
      " |-- ARR_TIME: string (nullable = true)\n",
      " |-- ARR_DELAY: string (nullable = true)\n",
      " |-- CANCELLED: string (nullable = true)\n",
      " |-- CANCELLATION_CODE: string (nullable = true)\n",
      " |-- DIVERTED: string (nullable = true)\n",
      " |-- CRS_ELAPSED_TIME: string (nullable = true)\n",
      " |-- ACTUAL_ELAPSED_TIME: string (nullable = true)\n",
      " |-- AIR_TIME: string (nullable = true)\n",
      " |-- DISTANCE: string (nullable = true)\n",
      " |-- CARRIER_DELAY: string (nullable = true)\n",
      " |-- WEATHER_DELAY: string (nullable = true)\n",
      " |-- NAS_DELAY: string (nullable = true)\n",
      " |-- SECURITY_DELAY: string (nullable = true)\n",
      " |-- LATE_AIRCRAFT_DELAY: string (nullable = true)\n",
      " |-- Unnamed: 27: string (nullable = true)\n",
      "\n"
     ]
    }
   ],
   "source": [
    "df = spark.read.option(\"header\", \"true\").csv(\"../lab_data/2009.csv\")\n",
    "df.printSchema()"
   ]
  },
  {
   "cell_type": "markdown",
   "metadata": {},
   "source": [
    "## Data Cleansing"
   ]
  },
  {
   "cell_type": "markdown",
   "metadata": {},
   "source": [
    "### Task 1 and 2"
   ]
  },
  {
   "cell_type": "code",
   "execution_count": 4,
   "metadata": {},
   "outputs": [],
   "source": [
    "from pyspark.sql.functions import month, to_date, when\n",
    "\n",
    "df = df.filter(col(\"FL_DATE\").startswith(\"2009\"))\n",
    "\n",
    "# 1. Rename OP_CARRIER to UniqueCarrier\n",
    "df = df.withColumnRenamed(\"OP_CARRIER\", \"UniqueCarrier\")\n",
    "\n",
    "# 2. Convert FL_DATE to proper date format\n",
    "df = df.withColumn(\"FL_DATE\", to_date(col(\"FL_DATE\"), \"yyyy-MM-dd\"))\n",
    "\n",
    "# 3. Create DayOfWeek and numeric Month columns\n",
    "df = df.withColumn(\"DayOfWeek\", dayofweek(col(\"FL_DATE\")))\n",
    "df = df.withColumn(\"Month\", month(col(\"FL_DATE\")))"
   ]
  },
  {
   "cell_type": "code",
   "execution_count": 5,
   "metadata": {},
   "outputs": [],
   "source": [
    "# Map numeric month to abbreviated name\n",
    "month_name_expr = when(month(\"FL_DATE\") == 1, \"jan\") \\\n",
    "    .when(month(\"FL_DATE\") == 2, \"feb\") \\\n",
    "    .when(month(\"FL_DATE\") == 3, \"mar\") \\\n",
    "    .when(month(\"FL_DATE\") == 4, \"apr\") \\\n",
    "    .when(month(\"FL_DATE\") == 5, \"may\") \\\n",
    "    .when(month(\"FL_DATE\") == 6, \"jun\") \\\n",
    "    .when(month(\"FL_DATE\") == 7, \"jul\") \\\n",
    "    .when(month(\"FL_DATE\") == 8, \"aug\") \\\n",
    "    .when(month(\"FL_DATE\") == 9, \"sep\") \\\n",
    "    .when(month(\"FL_DATE\") == 10, \"oct\") \\\n",
    "    .when(month(\"FL_DATE\") == 11, \"nov\") \\\n",
    "    .when(month(\"FL_DATE\") == 12, \"dec\")\n",
    "\n",
    "# Format FL_DATE and add MonthName column\n",
    "df = df.withColumn(\"FL_DATE\", to_date(\"FL_DATE\", \"yyyy-MM-dd\"))\n",
    "df = df.withColumn(\"Month\", month(\"FL_DATE\"))\n",
    "df = df.withColumn(\"MonthName\", month_name_expr)"
   ]
  },
  {
   "cell_type": "code",
   "execution_count": 6,
   "metadata": {},
   "outputs": [],
   "source": [
    "# 5. Handle missing values in key features\n",
    "# Adjust missing value filtering to keep cancelled flights with known reasons\n",
    "df = df.filter(\n",
    "    ((col(\"CANCELLED\") == 0.0) & col(\"DEP_TIME\").isNotNull() & col(\"ARR_TIME\").isNotNull()) |\n",
    "    ((col(\"CANCELLED\") == 1.0) & col(\"CANCELLATION_CODE\").isNotNull())\n",
    ")\n",
    "\n",
    "\n",
    "# 6. Filter out diverted flights (DIVERTED == 1)\n",
    "df = df.filter(col(\"DIVERTED\") != 1)"
   ]
  },
  {
   "cell_type": "code",
   "execution_count": 7,
   "metadata": {},
   "outputs": [
    {
     "name": "stdout",
     "output_type": "stream",
     "text": [
      "+----------+-------------+---------+---------+---------+\n",
      "|   FL_DATE|UniqueCarrier|DayOfWeek|MonthName|CANCELLED|\n",
      "+----------+-------------+---------+---------+---------+\n",
      "|2009-01-01|           XE|        5|      jan|      0.0|\n",
      "|2009-01-01|           XE|        5|      jan|      0.0|\n",
      "|2009-01-01|           XE|        5|      jan|      0.0|\n",
      "|2009-01-01|           XE|        5|      jan|      0.0|\n",
      "|2009-01-01|           XE|        5|      jan|      0.0|\n",
      "+----------+-------------+---------+---------+---------+\n",
      "only showing top 5 rows\n",
      "\n"
     ]
    }
   ],
   "source": [
    "# Write Parquet files partitioned by MonthName\n",
    "df.write.partitionBy(\"MonthName\").mode(\"overwrite\").parquet(\"../lab_data/airplane_data_parquet_in_months/\")\n",
    "df.select(\"FL_DATE\", \"UniqueCarrier\", \"DayOfWeek\", \"MonthName\", \"CANCELLED\").show(5)"
   ]
  },
  {
   "cell_type": "markdown",
   "metadata": {},
   "source": [
    "### Task 3"
   ]
  },
  {
   "cell_type": "code",
   "execution_count": 8,
   "metadata": {},
   "outputs": [],
   "source": [
    "from pyspark.sql.functions import col, count, when\n",
    "import matplotlib.pyplot as plt"
   ]
  },
  {
   "cell_type": "code",
   "execution_count": 9,
   "metadata": {},
   "outputs": [
    {
     "name": "stdout",
     "output_type": "stream",
     "text": [
      "Top 10 carriers by flight count:\n",
      "  UniqueCarrier    count\n",
      "0            WN  1127045\n",
      "1            AA   548194\n",
      "2            OO   544843\n",
      "3            MQ   434577\n",
      "4            DL   424982\n",
      "5            US   411273\n",
      "6            UA   375501\n",
      "7            XE   308340\n",
      "8            EV   297874\n",
      "9            NW   291856\n"
     ]
    }
   ],
   "source": [
    "# 1. Top 10 carriers by flight count\n",
    "top_10_carriers = df.groupBy(\"UniqueCarrier\") \\\n",
    "    .count() \\\n",
    "    .orderBy(col(\"count\").desc()) \\\n",
    "    .limit(10)\n",
    "\n",
    "top_10_pd = top_10_carriers.toPandas()\n",
    "print(\"Top 10 carriers by flight count:\")\n",
    "print(top_10_pd)"
   ]
  },
  {
   "cell_type": "code",
   "execution_count": 10,
   "metadata": {},
   "outputs": [
    {
     "data": {
      "image/png": "[encoded data removed]",
      "text/plain": [
       "<Figure size 640x480 with 1 Axes>"
      ]
     },
     "metadata": {},
     "output_type": "display_data"
    }
   ],
   "source": [
    "top_10_pd.plot(kind=\"bar\", x=\"UniqueCarrier\", y=\"count\", title=\"Top 10 Carriers by Flight Count\")\n",
    "plt.ylabel(\"Number of Flights\")\n",
    "plt.tight_layout()\n",
    "plt.show()"
   ]
  },
  {
   "cell_type": "code",
   "execution_count": 11,
   "metadata": {},
   "outputs": [
    {
     "name": "stdout",
     "output_type": "stream",
     "text": [
      "+-----------------+-----+\n",
      "|CANCELLATION_CODE|count|\n",
      "+-----------------+-----+\n",
      "|                B|36651|\n",
      "|                C|14799|\n",
      "|                A|35568|\n",
      "|                D|   20|\n",
      "+-----------------+-----+\n",
      "\n"
     ]
    }
   ],
   "source": [
    "df.filter(col(\"CANCELLED\") == 1.0).select(\"CANCELLATION_CODE\").groupBy(\"CANCELLATION_CODE\").count().show()"
   ]
  },
  {
   "cell_type": "code",
   "execution_count": 12,
   "metadata": {},
   "outputs": [
    {
     "name": "stdout",
     "output_type": "stream",
     "text": [
      "\n",
      "Cancellation reasons by code:\n",
      "  CANCELLATION_CODE  count\n",
      "0                 A  35568\n",
      "1                 B  36651\n",
      "2                 C  14799\n",
      "3                 D     20\n"
     ]
    },
    {
     "data": {
      "image/png": "[encoded data removed]",
      "text/plain": [
       "<Figure size 640x480 with 1 Axes>"
      ]
     },
     "metadata": {},
     "output_type": "display_data"
    }
   ],
   "source": [
    "# Filter for cancelled flights\n",
    "cancelled_df = df.filter(col(\"CANCELLED\") == 1.0)\n",
    "\n",
    "# Count cancellation reasons\n",
    "cancel_reasons = cancelled_df.groupBy(\"CANCELLATION_CODE\") \\\n",
    "    .count() \\\n",
    "    .orderBy(\"CANCELLATION_CODE\")\n",
    "\n",
    "cancel_reasons_pd = cancel_reasons.toPandas()\n",
    "\n",
    "print(\"\\nCancellation reasons by code:\")\n",
    "print(cancel_reasons_pd)\n",
    "\n",
    "# Plot\n",
    "cancel_reasons_pd.plot(kind=\"bar\", x=\"CANCELLATION_CODE\", y=\"count\", legend=False, title=\"Cancellation Reasons\")\n",
    "plt.ylabel(\"Cancelled Flights\")\n",
    "plt.xlabel(\"Reason Code (A=Carrier, B=Weather, C=NAS, D=Security)\")\n",
    "plt.tight_layout()\n",
    "plt.show()\n"
   ]
  },
  {
   "cell_type": "code",
   "execution_count": 13,
   "metadata": {},
   "outputs": [
    {
     "name": "stdout",
     "output_type": "stream",
     "text": [
      "\n",
      "Cancelled flights: 87038\n",
      "Not cancelled flights: 6326976\n",
      "Imbalance Ratio (Not Cancelled : Cancelled) = 72.69\n"
     ]
    }
   ],
   "source": [
    "import pandas as pd  # Make sure pandas is imported\n",
    "\n",
    "# Fetch class distribution from Spark\n",
    "class_dist = df.groupBy(\"CANCELLED\").count().orderBy(\"CANCELLED\")\n",
    "class_dist_pd = class_dist.toPandas()\n",
    "\n",
    "# Convert CANCELLED to numeric, clean and cast to int\n",
    "class_dist_pd[\"CANCELLED\"] = pd.to_numeric(class_dist_pd[\"CANCELLED\"], errors=\"coerce\").fillna(0).astype(int)\n",
    "\n",
    "# Build count dictionary\n",
    "class_counts = dict(zip(class_dist_pd[\"CANCELLED\"], class_dist_pd[\"count\"]))\n",
    "\n",
    "# Extract counts\n",
    "cancelled_count = class_counts.get(1, 0)\n",
    "not_cancelled_count = class_counts.get(0, 0)\n",
    "\n",
    "# Calculate imbalance ratio\n",
    "imbalance_ratio = (not_cancelled_count / cancelled_count) if cancelled_count != 0 else float(\"inf\")\n",
    "\n",
    "# Output\n",
    "print(f\"\\nCancelled flights: {cancelled_count}\")\n",
    "print(f\"Not cancelled flights: {not_cancelled_count}\")\n",
    "print(f\"Imbalance Ratio (Not Cancelled : Cancelled) = {imbalance_ratio:.2f}\")\n"
   ]
  },
  {
   "cell_type": "markdown",
   "metadata": {},
   "source": [
    "### Task 4"
   ]
  },
  {
   "cell_type": "code",
   "execution_count": 14,
   "metadata": {},
   "outputs": [],
   "source": [
    "from pyspark.ml.feature import StringIndexer, OneHotEncoder, VectorAssembler\n",
    "from pyspark.ml import Pipeline\n",
    "from pyspark.sql.types import DoubleType\n",
    "\n",
    "# Convert DEP_DELAY and DISTANCE to numeric types\n",
    "df = df.withColumn(\"DEP_DELAY\", col(\"DEP_DELAY\").cast(DoubleType()))\n",
    "df = df.withColumn(\"DISTANCE\", col(\"DISTANCE\").cast(DoubleType()))"
   ]
  },
  {
   "cell_type": "code",
   "execution_count": 15,
   "metadata": {},
   "outputs": [],
   "source": [
    "# 1. Index categorical columns\n",
    "categorical_cols = [\"UniqueCarrier\", \"ORIGIN\", \"DEST\", \"DayOfWeek\", \"MonthName\"]\n",
    "indexers = [StringIndexer(inputCol=col, outputCol=f\"{col}_Index\", handleInvalid=\"keep\") for col in categorical_cols]\n",
    "\n",
    "# 2. One-hot encode the indexed columns\n",
    "encoder = OneHotEncoder(inputCols=[f\"{col}_Index\" for col in categorical_cols],\n",
    "                        outputCols=[f\"{col}_Vec\" for col in categorical_cols])"
   ]
  },
  {
   "cell_type": "code",
   "execution_count": 16,
   "metadata": {},
   "outputs": [],
   "source": [
    "# 3. Assemble all features\n",
    "feature_cols = [\"DEP_DELAY\", \"DISTANCE\"] + [f\"{col}_Vec\" for col in categorical_cols]\n",
    "assembler = VectorAssembler(inputCols=feature_cols, outputCol=\"features\")"
   ]
  },
  {
   "cell_type": "code",
   "execution_count": 17,
   "metadata": {},
   "outputs": [
    {
     "name": "stdout",
     "output_type": "stream",
     "text": [
      "+--------------------------------------------------------------+---------+\n",
      "|features                                                      |CANCELLED|\n",
      "+--------------------------------------------------------------+---------+\n",
      "|(631,[0,1,9,44,332,616,627],[-2.0,199.0,1.0,1.0,1.0,1.0,1.0]) |0.0      |\n",
      "|(631,[0,1,9,35,343,616,627],[-1.0,213.0,1.0,1.0,1.0,1.0,1.0]) |0.0      |\n",
      "|(631,[0,1,9,35,340,616,627],[-1.0,199.0,1.0,1.0,1.0,1.0,1.0]) |0.0      |\n",
      "|(631,[0,1,9,44,332,616,627],[9.0,199.0,1.0,1.0,1.0,1.0,1.0])  |0.0      |\n",
      "|(631,[0,1,9,47,332,616,627],[-10.0,213.0,1.0,1.0,1.0,1.0,1.0])|0.0      |\n",
      "+--------------------------------------------------------------+---------+\n",
      "only showing top 5 rows\n",
      "\n"
     ]
    }
   ],
   "source": [
    "# 4. Build pipeline\n",
    "pipeline = Pipeline(stages=indexers + [encoder, assembler])\n",
    "\n",
    "# 5. Fit and transform the data\n",
    "df = df.filter(\n",
    "    col(\"DEP_DELAY\").isNotNull() &\n",
    "    col(\"DISTANCE\").isNotNull() &\n",
    "    col(\"UniqueCarrier\").isNotNull() &\n",
    "    col(\"ORIGIN\").isNotNull() &\n",
    "    col(\"DEST\").isNotNull() &\n",
    "    col(\"DayOfWeek\").isNotNull() &\n",
    "    col(\"MonthName\").isNotNull()\n",
    ")\n",
    "\n",
    "pipeline_model = pipeline.fit(df)\n",
    "df_prepared = pipeline_model.transform(df)\n",
    "\n",
    "# Final DataFrame\n",
    "df_final = df_prepared.select(\"features\", \"CANCELLED\")\n",
    "df_final.show(5, truncate=False)"
   ]
  },
  {
   "cell_type": "code",
   "execution_count": 18,
   "metadata": {},
   "outputs": [
    {
     "name": "stdout",
     "output_type": "stream",
     "text": [
      "root\n",
      " |-- DEP_DELAY: double (nullable = true)\n",
      " |-- DISTANCE: double (nullable = true)\n",
      "\n"
     ]
    }
   ],
   "source": [
    "df.select(\"DEP_DELAY\", \"DISTANCE\").printSchema()"
   ]
  },
  {
   "cell_type": "markdown",
   "metadata": {},
   "source": [
    "### TASK 5"
   ]
  },
  {
   "cell_type": "code",
   "execution_count": 19,
   "metadata": {},
   "outputs": [],
   "source": [
    "from pyspark.ml.classification import LogisticRegression, DecisionTreeClassifier, RandomForestClassifier, GBTClassifier\n",
    "from pyspark.ml.evaluation import BinaryClassificationEvaluator, MulticlassClassificationEvaluator\n",
    "from pyspark.ml.tuning import CrossValidator, ParamGridBuilder\n",
    "from pyspark.sql.types import DoubleType\n",
    "from pyspark.sql.functions import col"
   ]
  },
  {
   "cell_type": "code",
   "execution_count": 20,
   "metadata": {},
   "outputs": [],
   "source": [
    "df_final = df_final.withColumn(\"CANCELLED\", col(\"CANCELLED\").cast(DoubleType()))\n",
    "\n",
    "assembler_input_cols = [\"DEP_DELAY\", \"DISTANCE\",\n",
    "                        \"UniqueCarrier_Vec\", \"ORIGIN_Vec\",\n",
    "                        \"DEST_Vec\", \"DayOfWeek_Vec\", \"MonthName_Vec\"]\n",
    "\n",
    "# Remove rows with nulls in any feature used by VectorAssembler\n",
    "df_final = df_final.withColumn(\"CANCELLED\", col(\"CANCELLED\").cast(DoubleType()))\n",
    "\n",
    "\n",
    "# 1. Split the data\n",
    "train_data, test_data = df_final.randomSplit([0.7, 0.3], seed=42)\n",
    "\n",
    "# 2. Define models\n",
    "lr = LogisticRegression(labelCol=\"CANCELLED\", featuresCol=\"features\")\n",
    "dt = DecisionTreeClassifier(labelCol=\"CANCELLED\", featuresCol=\"features\")\n",
    "rf = RandomForestClassifier(labelCol=\"CANCELLED\", featuresCol=\"features\")\n",
    "gbt = GBTClassifier(labelCol=\"CANCELLED\", featuresCol=\"features\")\n",
    "\n",
    "# 3. Define parameter grids (tuning one hyperparameter per model)\n",
    "lr_grid = ParamGridBuilder().addGrid(lr.regParam, [0.01, 0.1]).build()\n",
    "dt_grid = ParamGridBuilder().addGrid(dt.maxDepth, [3, 5, 10]).build()\n",
    "rf_grid = ParamGridBuilder().addGrid(rf.numTrees, [10, 20]).build()\n",
    "gbt_grid = ParamGridBuilder().addGrid(gbt.maxIter, [10, 20]).build()\n",
    "\n",
    "# 4. Define evaluator for AUC and Accuracy\n",
    "auc_evaluator = BinaryClassificationEvaluator(labelCol=\"CANCELLED\", metricName=\"areaUnderROC\")\n",
    "acc_evaluator = MulticlassClassificationEvaluator(labelCol=\"CANCELLED\", metricName=\"accuracy\")"
   ]
  },
  {
   "cell_type": "code",
   "execution_count": 21,
   "metadata": {},
   "outputs": [],
   "source": [
    "# 5. Set up CrossValidators\n",
    "def get_cv(model, grid):\n",
    "    return CrossValidator(estimator=model,\n",
    "                          estimatorParamMaps=grid,\n",
    "                          evaluator=auc_evaluator,\n",
    "                          numFolds=3)\n",
    "\n",
    "cv_lr = get_cv(lr, lr_grid)\n",
    "cv_dt = get_cv(dt, dt_grid)\n",
    "cv_rf = get_cv(rf, rf_grid)\n",
    "cv_gbt = get_cv(gbt, gbt_grid)"
   ]
  },
  {
   "cell_type": "code",
   "execution_count": 22,
   "metadata": {},
   "outputs": [
    {
     "name": "stdout",
     "output_type": "stream",
     "text": [
      "Training models, this may take a few minutes...\n"
     ]
    }
   ],
   "source": [
    "print(\"Training models, this may take a few minutes...\")\n",
    "\n",
    "lr_model = cv_lr.fit(train_data)"
   ]
  },
  {
   "cell_type": "code",
   "execution_count": 23,
   "metadata": {},
   "outputs": [],
   "source": [
    "dt_model = cv_dt.fit(train_data)\n"
   ]
  },
  {
   "cell_type": "code",
   "execution_count": 24,
   "metadata": {},
   "outputs": [],
   "source": [
    "rf_model = cv_rf.fit(train_data)"
   ]
  },
  {
   "cell_type": "code",
   "execution_count": 25,
   "metadata": {},
   "outputs": [],
   "source": [
    "gbt_model = cv_gbt.fit(train_data)"
   ]
  },
  {
   "cell_type": "code",
   "execution_count": 26,
   "metadata": {},
   "outputs": [
    {
     "name": "stdout",
     "output_type": "stream",
     "text": [
      "\n",
      "Logistic Regression\n",
      "Accuracy: 0.9993\n",
      "AUC: 0.7929\n",
      "\n",
      "Decision Tree\n",
      "Accuracy: 0.9993\n",
      "AUC: 0.5632\n",
      "\n",
      "Random Forest\n",
      "Accuracy: 0.9993\n",
      "AUC: 0.5667\n",
      "\n",
      "Gradient Boosted Tree\n",
      "Accuracy: 0.9993\n",
      "AUC: 0.7561\n"
     ]
    }
   ],
   "source": [
    "# 7. Evaluate models on test data\n",
    "models = [(\"Logistic Regression\", lr_model),\n",
    "          (\"Decision Tree\", dt_model),\n",
    "          (\"Random Forest\", rf_model),\n",
    "          (\"Gradient Boosted Tree\", gbt_model)]\n",
    "\n",
    "for name, model in models:\n",
    "    predictions = model.transform(test_data)\n",
    "    auc = auc_evaluator.evaluate(predictions)\n",
    "    acc = acc_evaluator.evaluate(predictions)\n",
    "    print(f\"\\n{name}\")\n",
    "    print(f\"Accuracy: {acc:.4f}\")\n",
    "    print(f\"AUC: {auc:.4f}\")"
   ]
  },
  {
   "cell_type": "code",
   "execution_count": null,
   "metadata": {},
   "outputs": [],
   "source": []
  }
 ],
 "metadata": {
  "kernelspec": {
   "display_name": "Python 3 (ipykernel)",
   "language": "python",
   "name": "python3"
  },
  "language_info": {
   "codemirror_mode": {
    "name": "ipython",
    "version": 3
   },
   "file_extension": ".py",
   "mimetype": "text/x-python",
   "name": "python",
   "nbconvert_exporter": "python",
   "pygments_lexer": "ipython3",
   "version": "3.11.10"
  }
 },
 "nbformat": 4,
 "nbformat_minor": 4
}
