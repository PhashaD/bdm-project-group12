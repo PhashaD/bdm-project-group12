{
 "cells": [
  {
   "cell_type": "markdown",
   "id": "de047a38-145e-4c9c-b358-97472554bcc4",
   "metadata": {},
   "source": [
    "### Install dependencies"
   ]
  },
  {
   "cell_type": "code",
   "execution_count": 1,
   "id": "f73f60fc-c21e-4c85-b21e-b2b414e91e79",
   "metadata": {},
   "outputs": [
    {
     "name": "stdout",
     "output_type": "stream",
     "text": [
      "Collecting shapely\n",
      "  Using cached shapely-2.0.7-cp311-cp311-manylinux_2_17_x86_64.manylinux2014_x86_64.whl.metadata (6.8 kB)\n",
      "Requirement already satisfied: numpy<3,>=1.14 in /opt/conda/lib/python3.11/site-packages (from shapely) (1.26.4)\n",
      "Using cached shapely-2.0.7-cp311-cp311-manylinux_2_17_x86_64.manylinux2014_x86_64.whl (2.5 MB)\n",
      "Installing collected packages: shapely\n",
      "Successfully installed shapely-2.0.7\n"
     ]
    }
   ],
   "source": [
    "!pip install shapely"
   ]
  },
  {
   "cell_type": "code",
   "execution_count": 2,
   "id": "f7cadb3c-ae8f-4cf8-9b74-477eea83109e",
   "metadata": {},
   "outputs": [],
   "source": [
    "from pyspark.sql import SparkSession\n",
    "\n",
    "spark = (SparkSession.builder\n",
    "                    .appName('project1')\n",
    "                    .enableHiveSupport()\n",
    "                    .getOrCreate()\n",
    "        )"
   ]
  },
  {
   "cell_type": "markdown",
   "id": "cf6a9f55-9d79-4a43-a3eb-2a746e9bc4f6",
   "metadata": {},
   "source": [
    "## Load the data"
   ]
  },
  {
   "cell_type": "code",
   "execution_count": 3,
   "id": "c9857dac-f3a7-416f-ab75-8368b22dccba",
   "metadata": {},
   "outputs": [
    {
     "data": {
      "text/plain": [
       "DataFrame[medallion: string, hack_license: string, vendor_id: string, rate_code: string, store_and_fwd_flag: string, pickup_datetime: string, dropoff_datetime: string, passenger_count: string, trip_time_in_secs: string, trip_distance: string, pickup_longitude: string, pickup_latitude: string, dropoff_longitude: string, dropoff_latitude: string]"
      ]
     },
     "metadata": {},
     "output_type": "display_data"
    },
    {
     "data": {
      "text/plain": [
       "DataFrame[features: array<struct<geometry:struct<coordinates:array<array<array<double>>>,type:string>,id:bigint,properties:struct<@id:string,borough:string,boroughCode:bigint>,type:string>>, type: string]"
      ]
     },
     "metadata": {},
     "output_type": "display_data"
    }
   ],
   "source": [
    "# Real taxi data\n",
    "taxi_df = (\n",
    "    spark.read\n",
    "         .option(\"header\", \"true\")\n",
    "         .option(\"inferSchema\", \"true\")\n",
    "         .csv(\"input/trip_data/*.csv\")\n",
    ")\n",
    "\n",
    "display(taxi_df)\n",
    "\n",
    "boroughs_df = (spark.read.option(\"inferSchema\", True).option(\"multiline\", True).json(\"input/nyc-boroughs.geojson\"))\n",
    "display(boroughs_df)"
   ]
  },
  {
   "cell_type": "markdown",
   "id": "b694cf7f-3103-43fd-a11f-73991e3fb6a9",
   "metadata": {},
   "source": [
    "## Enriching dataset with borough names"
   ]
  },
  {
   "cell_type": "code",
   "execution_count": 4,
   "id": "e0264a30-edca-4c93-907a-068554067e8a",
   "metadata": {},
   "outputs": [],
   "source": [
    "from shapely.geometry import Polygon\n",
    "from pyspark.sql.functions import explode, col, udf\n",
    "\n",
    "# udfs for shapely polygon creation and area calculation\n",
    "def create_polygon(coordinates):\n",
    "    return Polygon(coordinates[0]).wkt # wkt format can be deserialzed\n",
    "\n",
    "def calculate_area(coordinates):\n",
    "    return Polygon(coordinates[0]).area\n",
    "    \n",
    "create_polygon_udf = udf(create_polygon)\n",
    "calculate_area_udf = udf(calculate_area)"
   ]
  },
  {
   "cell_type": "code",
   "execution_count": 5,
   "id": "9cc1375e-f2bd-472a-a221-9e5c348932ff",
   "metadata": {},
   "outputs": [],
   "source": [
    "from pyspark.sql.types import DoubleType\n",
    "\n",
    "# explode the features array\n",
    "boroughs_features_df = boroughs_df.select(explode(col(\"features\")).alias(\"feature\"))\n",
    "\n",
    "boroughs_features_df.head()\n",
    "\n",
    "# dataframe enriched with polygon and area\n",
    "borough_geo_df = (\n",
    "    boroughs_features_df.select(\n",
    "        col(\"feature.properties.borough\").alias(\"borough\"),\n",
    "        col(\"feature.properties.boroughCode\").alias(\"boroughCode\"),\n",
    "        col(\"feature.geometry.coordinates\").alias(\"coordinates\")\n",
    "    )\n",
    "    .withColumn(\"polygon\", create_polygon_udf(col(\"coordinates\")))\n",
    "    .withColumn(\"area\", calculate_area_udf(col(\"coordinates\")))\n",
    ")\n",
    "\n",
    "# cast area to double\n",
    "borough_geo_df = borough_geo_df.withColumn(\"area\", col(\"area\").cast(DoubleType()))"
   ]
  },
  {
   "cell_type": "code",
   "execution_count": 6,
   "id": "6c23dacd-a3e7-475d-94e1-b3517ce06a0e",
   "metadata": {},
   "outputs": [
    {
     "name": "stdout",
     "output_type": "stream",
     "text": [
      "+---------+---------------------+\n",
      "|borough  |area                 |\n",
      "+---------+---------------------+\n",
      "|Manhattan|0.005859077996035753 |\n",
      "|Manhattan|2.3271655856762013E-4|\n",
      "|Manhattan|7.6037752599342E-5   |\n",
      "|Manhattan|6.23157479510608E-5  |\n",
      "|Manhattan|3.2658591272044954E-5|\n",
      "|Manhattan|1.1828883137677094E-5|\n",
      "|Manhattan|6.143638903459381E-6 |\n",
      "|Manhattan|3.3831273674444417E-6|\n",
      "|Manhattan|2.858823502476497E-6 |\n",
      "|Manhattan|2.393654308790746E-6 |\n",
      "|Manhattan|2.3345540772235924E-6|\n",
      "|Manhattan|2.2627340976761147E-6|\n",
      "|Manhattan|2.2465297475388565E-6|\n",
      "|Manhattan|2.24116737819868E-6  |\n",
      "|Manhattan|2.2094455927089308E-6|\n",
      "|Manhattan|2.0486362960502745E-6|\n",
      "|Manhattan|1.3300494774255711E-6|\n",
      "|Manhattan|1.1111770551654054E-6|\n",
      "|Manhattan|2.354033827718773E-7 |\n",
      "|Manhattan|2.0929022926724522E-7|\n",
      "+---------+---------------------+\n",
      "only showing top 20 rows\n",
      "\n"
     ]
    }
   ],
   "source": [
    "from pyspark.sql.functions import desc, asc\n",
    "from shapely.wkt import dumps\n",
    "\n",
    "# sort the dataframe by boroughCode and area\n",
    "boroughs_sorted = borough_geo_df.orderBy(\"boroughCode\", desc(\"area\"))\n",
    "boroughs_sorted.select(\"borough\", \"area\").show(20, truncate=False)\n",
    "\n",
    "# broadcast the sorted boroughs dataframe\n",
    "borough_bd = spark.sparkContext.broadcast(boroughs_sorted.collect())"
   ]
  },
  {
   "cell_type": "code",
   "execution_count": 7,
   "id": "0f381d70-3c8a-4295-8d63-349b7866ba57",
   "metadata": {},
   "outputs": [],
   "source": [
    "from pyspark.sql.types import StringType\n",
    "from shapely.geometry import Point\n",
    "from shapely.wkt import loads\n",
    "\n",
    "# udf for getting borough\n",
    "def get_borough(lat, long):\n",
    "    point = Point(long, lat)\n",
    "    for row in borough_bd.value:\n",
    "        if loads(row[\"polygon\"]).contains(point):\n",
    "            return row[\"borough\"]\n",
    "    return \"unknown\"\n",
    "\n",
    "get_borough_udf = udf(get_borough)   "
   ]
  },
  {
   "cell_type": "code",
   "execution_count": 8,
   "id": "cf6a4eaa-9b40-4957-8c3b-baab27ffc407",
   "metadata": {},
   "outputs": [
    {
     "name": "stdout",
     "output_type": "stream",
     "text": [
      "+--------------+---------------+--------------------+-------------------+-------------------+\n",
      "|pickup_borough|dropoff_borough|           medallion|    pickup_datetime|   dropoff_datetime|\n",
      "+--------------+---------------+--------------------+-------------------+-------------------+\n",
      "|     Manhattan|      Manhattan|89D227B655E5C82AE...|2013-01-01 15:11:48|2013-01-01 15:18:10|\n",
      "|     Manhattan|      Manhattan|0BD7C8F5BA12B88E0...|2013-01-06 00:18:35|2013-01-06 00:22:54|\n",
      "|     Manhattan|      Manhattan|0BD7C8F5BA12B88E0...|2013-01-05 18:49:41|2013-01-05 18:54:23|\n",
      "|     Manhattan|      Manhattan|DFD2202EE08F7A8DC...|2013-01-07 23:54:15|2013-01-07 23:58:20|\n",
      "|     Manhattan|      Manhattan|DFD2202EE08F7A8DC...|2013-01-07 23:25:03|2013-01-07 23:34:24|\n",
      "|     Manhattan|      Manhattan|20D9ECB2CA0767CF7...|2013-01-07 15:27:48|2013-01-07 15:38:37|\n",
      "|     Manhattan|      Manhattan|496644932DF393260...|2013-01-08 11:01:15|2013-01-08 11:08:14|\n",
      "|     Manhattan|         Queens|0B57B9633A2FECD3D...|2013-01-07 12:39:18|2013-01-07 13:10:56|\n",
      "|     Manhattan|      Manhattan|2C0E91FF20A856C89...|2013-01-07 18:15:47|2013-01-07 18:20:47|\n",
      "|     Manhattan|      Manhattan|2D4B95E2FA7B2E851...|2013-01-07 15:33:28|2013-01-07 15:49:26|\n",
      "|     Manhattan|      Manhattan|E12F6AF991172EAC3...|2013-01-08 13:11:52|2013-01-08 13:19:50|\n",
      "|     Manhattan|      Manhattan|E12F6AF991172EAC3...|2013-01-08 09:50:05|2013-01-08 10:02:54|\n",
      "|     Manhattan|      Manhattan|78FFD9CD0CDA541F3...|2013-01-10 12:07:08|2013-01-10 12:17:29|\n",
      "|     Manhattan|      Manhattan|237F49C3ECC11F502...|2013-01-07 07:35:47|2013-01-07 07:46:00|\n",
      "|     Manhattan|      Manhattan|3349F919AA8AE5DC9...|2013-01-10 15:42:29|2013-01-10 16:04:02|\n",
      "|     Manhattan|      Manhattan|3349F919AA8AE5DC9...|2013-01-10 14:27:28|2013-01-10 14:45:21|\n",
      "|     Manhattan|      Manhattan|4C005EEBAA7BF26B8...|2013-01-07 22:09:59|2013-01-07 22:19:50|\n",
      "|     Manhattan|      Manhattan|7D99C30FCE69B1A9D...|2013-01-07 17:18:16|2013-01-07 17:20:55|\n",
      "|     Manhattan|      Manhattan|E6FBF80668FE0611A...|2013-01-07 06:08:51|2013-01-07 06:13:14|\n",
      "|     Manhattan|      Manhattan|0C5296F3C8B16E702...|2013-01-07 22:25:46|2013-01-07 22:36:56|\n",
      "+--------------+---------------+--------------------+-------------------+-------------------+\n",
      "only showing top 20 rows\n",
      "\n"
     ]
    }
   ],
   "source": [
    "taxi_df = taxi_df.withColumn(\"pickup_borough\", get_borough_udf(col(\"pickup_latitude\"), col(\"pickup_longitude\")))\n",
    "taxi_df = taxi_df.withColumn(\"dropoff_borough\", get_borough_udf(col(\"dropoff_latitude\"), col(\"dropoff_longitude\")))\n",
    "\n",
    "# taxi_df.show()\n",
    "taxi_df.select(\"pickup_borough\", \"dropoff_borough\", \"medallion\", \"pickup_datetime\", \"dropoff_datetime\").show(20)"
   ]
  },
  {
   "cell_type": "markdown",
   "id": "ee564ad2-117b-4678-9fc6-79c2b16b8c79",
   "metadata": {},
   "source": [
    "## Data cleansing"
   ]
  },
  {
   "cell_type": "code",
   "execution_count": 9,
   "id": "e90a556f-b1d9-410b-9fd1-01ed0c8a28ca",
   "metadata": {},
   "outputs": [
    {
     "name": "stdout",
     "output_type": "stream",
     "text": [
      "+----------------+-----------------+-------------------+-------------------+--------+--------------+---------------+--------------------+\n",
      "|pickup_timestamp|dropoff_timestamp|    pickup_datetime|   dropoff_datetime|duration|pickup_borough|dropoff_borough|           medallion|\n",
      "+----------------+-----------------+-------------------+-------------------+--------+--------------+---------------+--------------------+\n",
      "|      1357053108|       1357053490|2013-01-01 15:11:48|2013-01-01 15:18:10|     382|     Manhattan|      Manhattan|89D227B655E5C82AE...|\n",
      "|      1357431515|       1357431774|2013-01-06 00:18:35|2013-01-06 00:22:54|     259|     Manhattan|      Manhattan|0BD7C8F5BA12B88E0...|\n",
      "|      1357411781|       1357412063|2013-01-05 18:49:41|2013-01-05 18:54:23|     282|     Manhattan|      Manhattan|0BD7C8F5BA12B88E0...|\n",
      "|      1357602855|       1357603100|2013-01-07 23:54:15|2013-01-07 23:58:20|     245|     Manhattan|      Manhattan|DFD2202EE08F7A8DC...|\n",
      "|      1357601103|       1357601664|2013-01-07 23:25:03|2013-01-07 23:34:24|     561|     Manhattan|      Manhattan|DFD2202EE08F7A8DC...|\n",
      "|      1357572468|       1357573117|2013-01-07 15:27:48|2013-01-07 15:38:37|     649|     Manhattan|      Manhattan|20D9ECB2CA0767CF7...|\n",
      "|      1357642875|       1357643294|2013-01-08 11:01:15|2013-01-08 11:08:14|     419|     Manhattan|      Manhattan|496644932DF393260...|\n",
      "|      1357562358|       1357564256|2013-01-07 12:39:18|2013-01-07 13:10:56|    1898|     Manhattan|         Queens|0B57B9633A2FECD3D...|\n",
      "|      1357582547|       1357582847|2013-01-07 18:15:47|2013-01-07 18:20:47|     300|     Manhattan|      Manhattan|2C0E91FF20A856C89...|\n",
      "|      1357572808|       1357573766|2013-01-07 15:33:28|2013-01-07 15:49:26|     958|     Manhattan|      Manhattan|2D4B95E2FA7B2E851...|\n",
      "|      1357650712|       1357651190|2013-01-08 13:11:52|2013-01-08 13:19:50|     478|     Manhattan|      Manhattan|E12F6AF991172EAC3...|\n",
      "|      1357638605|       1357639374|2013-01-08 09:50:05|2013-01-08 10:02:54|     769|     Manhattan|      Manhattan|E12F6AF991172EAC3...|\n",
      "|      1357819628|       1357820249|2013-01-10 12:07:08|2013-01-10 12:17:29|     621|     Manhattan|      Manhattan|78FFD9CD0CDA541F3...|\n",
      "|      1357544147|       1357544760|2013-01-07 07:35:47|2013-01-07 07:46:00|     613|     Manhattan|      Manhattan|237F49C3ECC11F502...|\n",
      "|      1357832549|       1357833842|2013-01-10 15:42:29|2013-01-10 16:04:02|    1293|     Manhattan|      Manhattan|3349F919AA8AE5DC9...|\n",
      "|      1357828048|       1357829121|2013-01-10 14:27:28|2013-01-10 14:45:21|    1073|     Manhattan|      Manhattan|3349F919AA8AE5DC9...|\n",
      "|      1357596599|       1357597190|2013-01-07 22:09:59|2013-01-07 22:19:50|     591|     Manhattan|      Manhattan|4C005EEBAA7BF26B8...|\n",
      "|      1357579096|       1357579255|2013-01-07 17:18:16|2013-01-07 17:20:55|     159|     Manhattan|      Manhattan|7D99C30FCE69B1A9D...|\n",
      "|      1357538931|       1357539194|2013-01-07 06:08:51|2013-01-07 06:13:14|     263|     Manhattan|      Manhattan|E6FBF80668FE0611A...|\n",
      "|      1357597546|       1357598216|2013-01-07 22:25:46|2013-01-07 22:36:56|     670|     Manhattan|      Manhattan|0C5296F3C8B16E702...|\n",
      "+----------------+-----------------+-------------------+-------------------+--------+--------------+---------------+--------------------+\n",
      "only showing top 20 rows\n",
      "\n"
     ]
    }
   ],
   "source": [
    "from pyspark.sql.functions import unix_timestamp\n",
    "# add columns for pickup and dropoff times in unix timestamps \n",
    "\n",
    "time_format = \"yyyy-MM-dd HH:mm:ss\"\n",
    "\n",
    "taxi_df = (taxi_df\n",
    "           .withColumn(\"pickup_timestamp\", unix_timestamp(col(\"pickup_datetime\"), time_format))\n",
    "           .withColumn(\"dropoff_timestamp\", unix_timestamp(col(\"dropoff_datetime\"), time_format))\n",
    "           .withColumn(\"duration\", col(\"dropoff_timestamp\") - col(\"pickup_timestamp\"))\n",
    "          )\n",
    "\n",
    "taxi_df.select(\"pickup_timestamp\", \"dropoff_timestamp\", \"pickup_datetime\", \"dropoff_datetime\", \"duration\", \"pickup_borough\", \"dropoff_borough\", \"medallion\").show(20)"
   ]
  },
  {
   "cell_type": "code",
   "execution_count": null,
   "id": "5093c90e-a077-48f9-a2c1-cf1e57a2843f",
   "metadata": {},
   "outputs": [],
   "source": [
    "# filter out the trips with invalid duration\n",
    "print(taxi_df.count())\n",
    "\n",
    "max_trip_duration = 4 * 60 * 60 # 4 hours\n",
    "\n",
    "filtered_taxi_df = taxi_df.filter((col(\"duration\") > 0) & (col(\"duration\") <= max_trip_duration))\n",
    "print(filtered_taxi_df.count())\n"
   ]
  },
  {
   "cell_type": "markdown",
   "id": "a6205aef-b507-40aa-9444-bad83d3250b8",
   "metadata": {},
   "source": [
    "## Utilization Query"
   ]
  },
  {
   "cell_type": "code",
   "execution_count": 12,
   "id": "e42d3737-3969-485d-ae28-39de3114fb6b",
   "metadata": {},
   "outputs": [
    {
     "name": "stdout",
     "output_type": "stream",
     "text": [
      "+--------------------+-------------+-------------+-------------------+\n",
      "|           medallion|busy_time_sum|idle_time_sum|   utilization_rate|\n",
      "+--------------------+-------------+-------------+-------------------+\n",
      "|000318C2E3E638158...|        13920|        17400| 0.4444444444444444|\n",
      "|002E3B405B6ABEA23...|        10260|        16140| 0.3886363636363636|\n",
      "|0030AD2648D81EE87...|         1980|          720| 0.7333333333333333|\n",
      "|0036961468659D0BF...|        11700|        19740|0.37213740458015265|\n",
      "|0038EF45118925A51...|        10920|        15120|0.41935483870967744|\n",
      "|0053334C798EC6C8E...|         7920|        22440| 0.2608695652173913|\n",
      "|005DED7D6E6C45441...|        11460|        11760| 0.4935400516795866|\n",
      "|005F00B38F46E2100...|        18600|        42180| 0.3060217176702863|\n",
      "|00790C7BAD30B7A9E...|        12360|        25320|0.32802547770700635|\n",
      "|0094A03FFE6BAFBE0...|        10680|         5400|  0.664179104477612|\n",
      "|009D3CCA83486B03F...|        19620|        40920| 0.3240832507433102|\n",
      "|009E68CADCB1BCF73...|          780|            0|                1.0|\n",
      "|00BD5D1AD3A96C997...|        10200|        12540|0.44854881266490765|\n",
      "|00E0904FC59DA2C36...|          780|            0|                1.0|\n",
      "|00FB3D49C3DE5E002...|        15000|        14580| 0.5070993914807302|\n",
      "|012B65864B3BE97D6...|         6660|         6360|  0.511520737327189|\n",
      "|012F172C0351A4767...|        16200|        40680| 0.2848101265822785|\n",
      "|01389E9CF7758ECAC...|         2880|         5460|0.34532374100719426|\n",
      "|019AFB33C3153481B...|         7500|         9840|0.43252595155709345|\n",
      "|01BD10395EF30144C...|         4320|         5940|0.42105263157894735|\n",
      "|01C905F5CF4CD4D36...|         9420|         8340| 0.5304054054054054|\n",
      "|01D13A056D9A26F84...|         7740|        15480| 0.3333333333333333|\n",
      "|01D8C877762B42B4F...|        19500|        18540| 0.5126182965299685|\n",
      "|01DDF05F9C01F581E...|        10680|        16860| 0.3877995642701525|\n",
      "|01F9F5C3B207C3D05...|        11220|        24060|0.31802721088435376|\n",
      "|02063AF23344CEA45...|         4680|         6780| 0.4083769633507853|\n",
      "|02563784A67816C40...|         8100|         5460| 0.5973451327433629|\n",
      "|025CAAC6524CD33D7...|        11400|        13500| 0.4578313253012048|\n",
      "|026C93D85C6DFD560...|        12960|         9420|  0.579088471849866|\n",
      "|0278B837D850DB620...|        10560|        38400|0.21568627450980393|\n",
      "|02861094C5C334E36...|        13620|        17640|0.43570057581573896|\n",
      "|02928AFF13D7E2BEA...|         3900|         2520| 0.6074766355140186|\n",
      "|0293108C734F9B1C3...|         9780|        14520| 0.4024691358024691|\n",
      "|02A2214E583CDF23A...|         1980|         3900|  0.336734693877551|\n",
      "|02B196981B24858BC...|         7260|         7140| 0.5041666666666667|\n",
      "|02B5097C51EBA1043...|        11160|        20640|0.35094339622641507|\n",
      "|02BFD1B64C2C80B43...|          480|            0|                1.0|\n",
      "|02C49A409C2DC66B1...|         5520|        10260|0.34980988593155893|\n",
      "|02D57565703BFABEC...|         9060|        10200|  0.470404984423676|\n",
      "|02E517E0C95841629...|        16020|         8640| 0.6496350364963503|\n",
      "|02E5A4136FD0A775A...|          480|            0|                1.0|\n",
      "|02EBF943439BE7166...|        10620|         8340|  0.560126582278481|\n",
      "|02F32A52C7BA74873...|        10140|        11100| 0.4774011299435028|\n",
      "|03055B956C21B1F91...|        14520|        18360| 0.4416058394160584|\n",
      "|0321A1CAE98C6F5BA...|        10320|         9060| 0.5325077399380805|\n",
      "|03440BEC1C3E0DA65...|         9120|        28140|0.24476650563607086|\n",
      "|03669FD5D1F17360C...|        14040|        22740| 0.3817292006525285|\n",
      "|037CB433AB5895649...|        10980|        21000| 0.3433395872420263|\n",
      "|038E76DC061A40AE0...|        18660|        28080| 0.3992297817715019|\n",
      "|0398E30B94A30D36B...|        12240|        30540| 0.2861150070126227|\n",
      "+--------------------+-------------+-------------+-------------------+\n",
      "only showing top 50 rows\n",
      "\n"
     ]
    }
   ],
   "source": [
    "from pyspark.sql.window import Window\n",
    "from pyspark.sql.functions import lag, sum as _sum, when\n",
    "\n",
    "# partition data by medallion\n",
    "window_spec = Window.partitionBy(\"medallion\").orderBy(\"pickup_timestamp\")\n",
    "\n",
    "# add previous dropoff time as column\n",
    "taxi_df = taxi_df.withColumn(\"prev_dropoff_timestamp\", lag(\"dropoff_timestamp\").over(window_spec))\n",
    "\n",
    "# add idle time column\n",
    "taxi_df = taxi_df.withColumn(\"idle_time\", col(\"pickup_timestamp\") - col(\"prev_dropoff_timestamp\"))\n",
    "\n",
    "session_threshold = 4 * 60 * 60\n",
    "# if idle time is more than 4 hours, count consider it's a new session\n",
    "taxi_df = taxi_df.withColumn(\n",
    "    \"idle_time\",\n",
    "    when(col(\"idle_time\") <= session_threshold, col(\"idle_time\")).otherwise(0)\n",
    ")\n",
    "\n",
    "# group by taxi ID and get the total idle time\n",
    "utilization_df = (\n",
    "    taxi_df\n",
    "    .groupBy(\"medallion\")\n",
    "    .agg(_sum(\"duration\").alias(\"busy_time_sum\"),\n",
    "         _sum(\"idle_time\").alias(\"idle_time_sum\")\n",
    "    )\n",
    ")\n",
    "\n",
    "utilization_df = utilization_df.withColumn(\n",
    "    \"utilization_rate\",\n",
    "    col(\"busy_time_sum\") / (col(\"busy_time_sum\") + col(\"idle_time_sum\"))\n",
    ")\n",
    "\n",
    "utilization_df.show(50)"
   ]
  },
  {
   "cell_type": "markdown",
   "id": "ae289615-7afd-4ca0-9c84-5d806bfac96f",
   "metadata": {
    "editable": true,
    "slideshow": {
     "slide_type": ""
    },
    "tags": []
   },
   "source": [
    "## Average time for taxi to find next fare per destination borough"
   ]
  },
  {
   "cell_type": "code",
   "execution_count": 14,
   "id": "28a1ee3c-154c-46ac-9ac4-1ed534dcb655",
   "metadata": {},
   "outputs": [
    {
     "name": "stdout",
     "output_type": "stream",
     "text": [
      "+---------------+---------------------+\n",
      "|dropoff_borough|avg_time_to_next_fare|\n",
      "+---------------+---------------------+\n",
      "|Queens         |6368.423432682425    |\n",
      "|unknown        |12206.935332708528   |\n",
      "|Brooklyn       |6554.840325610519    |\n",
      "|Staten Island  |13935.0              |\n",
      "|Manhattan      |2048.9211563256895   |\n",
      "|Bronx          |4973.719008264463    |\n",
      "+---------------+---------------------+\n",
      "\n"
     ]
    }
   ],
   "source": [
    "from pyspark.sql.window import Window\n",
    "from pyspark.sql.functions import lead, avg\n",
    "\n",
    "# window specification for each taxi, ordered by dropoff time\n",
    "window_spec = Window.partitionBy(\"medallion\").orderBy(\"dropoff_timestamp\")\n",
    "\n",
    "# get the pickup time of the next trip for the same taxi\n",
    "taxi_df = taxi_df.withColumn(\"next_pickup_timestamp\", lead(\"pickup_timestamp\").over(window_spec))\n",
    "\n",
    "# compute idle time between trips\n",
    "taxi_df = taxi_df.withColumn(\"time_to_next_fare\", col(\"next_pickup_timestamp\") - col(\"dropoff_timestamp\"))\n",
    "\n",
    "# compute the average idle time per drop-off borough\n",
    "avg_time_per_borough = (\n",
    "    taxi_df.groupBy(\"dropoff_borough\")\n",
    "    .agg(avg(\"time_to_next_fare\").alias(\"avg_time_to_next_fare\"))\n",
    ")\n",
    "\n",
    "# results, we left records with unknown pick up/drop off borough (means ride was from outside of NYC or from NYC to outside city)\n",
    "avg_time_per_borough.show(truncate=False)\n"
   ]
  },
  {
   "cell_type": "code",
   "execution_count": null,
   "id": "e04d4313-6031-4d5e-97c0-ac6981700a94",
   "metadata": {},
   "outputs": [],
   "source": []
  }
 ],
 "metadata": {
  "kernelspec": {
   "display_name": "Python 3 (ipykernel)",
   "language": "python",
   "name": "python3"
  },
  "language_info": {
   "codemirror_mode": {
    "name": "ipython",
    "version": 3
   },
   "file_extension": ".py",
   "mimetype": "text/x-python",
   "name": "python",
   "nbconvert_exporter": "python",
   "pygments_lexer": "ipython3",
   "version": "3.11.10"
  }
 },
 "nbformat": 4,
 "nbformat_minor": 5
}
